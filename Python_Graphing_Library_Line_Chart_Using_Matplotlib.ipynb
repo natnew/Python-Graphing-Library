{
  "nbformat": 4,
  "nbformat_minor": 0,
  "metadata": {
    "colab": {
      "provenance": [],
      "authorship_tag": "ABX9TyMKIaU3oX5UcfSqOa6ZC1U5",
      "include_colab_link": true
    },
    "kernelspec": {
      "name": "python3",
      "display_name": "Python 3"
    },
    "language_info": {
      "name": "python"
    }
  },
  "cells": [
    {
      "cell_type": "markdown",
      "metadata": {
        "id": "view-in-github",
        "colab_type": "text"
      },
      "source": [
        "<a href=\"https://colab.research.google.com/github/natnew/Python-Graphing-Library/blob/main/Python_Graphing_Library_Line_Chart_Using_Matplotlib.ipynb\" target=\"_parent\"><img src=\"https://colab.research.google.com/assets/colab-badge.svg\" alt=\"Open In Colab\"/></a>"
      ]
    },
    {
      "cell_type": "code",
      "execution_count": 1,
      "metadata": {
        "id": "TWvLRKgezlIV"
      },
      "outputs": [],
      "source": [
        "#Libraries\n",
        "import matplotlib.pyplot as plt"
      ]
    },
    {
      "cell_type": "code",
      "source": [
        "#Dataset\n",
        "data = {'Jenny': 21, 'Paul': 28, 'Danny': 25, 'Caren': 20}\n",
        "names = list(data.keys())\n",
        "values = list(data.values())"
      ],
      "metadata": {
        "id": "NY6VdPpw5c_0"
      },
      "execution_count": 3,
      "outputs": []
    },
    {
      "cell_type": "code",
      "source": [
        "#Graph\n",
        "plt.plot(names, values, color='pink')\n",
        "fig.suptitle('Categorical Plotting')\n",
        "plt.show()"
      ],
      "metadata": {
        "colab": {
          "base_uri": "https://localhost:8080/",
          "height": 265
        },
        "id": "70HsVHdS5dkE",
        "outputId": "c908deea-f7ba-48cb-aafa-09c7ebce465d"
      },
      "execution_count": 16,
      "outputs": [
        {
          "output_type": "display_data",
          "data": {
            "text/plain": [
              "<Figure size 432x288 with 1 Axes>"
            ],
            "image/png": "[encoded data removed]"
          },
          "metadata": {
            "needs_background": "light"
          }
        }
      ]
    }
  ]
}